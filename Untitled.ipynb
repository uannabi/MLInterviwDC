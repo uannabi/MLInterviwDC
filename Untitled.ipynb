{
 "cells": [
  {
   "cell_type": "code",
   "execution_count": 1,
   "metadata": {},
   "outputs": [],
   "source": [
    "# Import modules\n",
    "import numpy as np\n",
    "import pandas as pd"
   ]
  },
  {
   "cell_type": "code",
   "execution_count": 4,
   "metadata": {},
   "outputs": [],
   "source": [
    "loan_data=pd.read_csv('loan_missing_filled.csv')"
   ]
  },
  {
   "cell_type": "code",
   "execution_count": 6,
   "metadata": {},
   "outputs": [
    {
     "name": "stdout",
     "output_type": "stream",
     "text": [
      "Current Loan Amount             0\n",
      "Credit Score                    0\n",
      "Years in current job            0\n",
      "Annual Income                   0\n",
      "Monthly Debt                    0\n",
      "Years of Credit History         0\n",
      "Months since last delinquent    0\n",
      "Number of Open Accounts         0\n",
      "Number of Credit Problems       0\n",
      "Current Credit Balance          0\n",
      "Maximum Open Credit             0\n",
      "Bankruptcies                    0\n",
      "Tax Liens                       0\n",
      "dtype: int64\n"
     ]
    }
   ],
   "source": [
    "print(loan_data.isnull().sum())"
   ]
  },
  {
   "cell_type": "code",
   "execution_count": 7,
   "metadata": {},
   "outputs": [
    {
     "name": "stdout",
     "output_type": "stream",
     "text": [
      "100.0\n"
     ]
    }
   ],
   "source": [
    "# Drop rows with missing values\n",
    "dropNArows = loan_data.dropna(axis=0)\n",
    "\n",
    "# Print percentage of rows remaining\n",
    "print(dropNArows.shape[0]/loan_data.shape[0] * 100)"
   ]
  },
  {
   "cell_type": "code",
   "execution_count": 8,
   "metadata": {},
   "outputs": [
    {
     "name": "stdout",
     "output_type": "stream",
     "text": [
      "100.0\n"
     ]
    }
   ],
   "source": [
    "# Drop columns with missing values\n",
    "dropNAcols = loan_data.dropna(axis=1)\n",
    "\n",
    "# Print percentage of columns remaining\n",
    "print(dropNAcols.shape[1]/loan_data.shape[1] * 100)"
   ]
  },
  {
   "cell_type": "code",
   "execution_count": 9,
   "metadata": {},
   "outputs": [
    {
     "name": "stdout",
     "output_type": "stream",
     "text": [
      "count    88910.000000\n",
      "mean       721.198303\n",
      "std         24.147875\n",
      "min        585.000000\n",
      "25%        713.273506\n",
      "50%        725.000000\n",
      "75%        739.000000\n",
      "max        756.187745\n",
      "Name: Credit Score, dtype: float64\n",
      "count    88910.000000\n",
      "mean       721.198303\n",
      "std         24.147875\n",
      "min        585.000000\n",
      "25%        713.273506\n",
      "50%        725.000000\n",
      "75%        739.000000\n",
      "max        756.187745\n",
      "Name: Credit Score, dtype: float64\n"
     ]
    }
   ],
   "source": [
    "# Fill missing values with zero\n",
    "loan_data_filled = loan_data.fillna(0)\n",
    "\n",
    "# Examine 'Credit Score' before\n",
    "print(loan_data['Credit Score'].describe())\n",
    "\n",
    "# Examine 'Credit Score' after\n",
    "print(loan_data_filled['Credit Score'].describe())"
   ]
  },
  {
   "cell_type": "code",
   "execution_count": 12,
   "metadata": {},
   "outputs": [],
   "source": [
    "# Import imputer module\n",
    "from sklearn.impute import SimpleImputer\n",
    "\n",
    "# Subset numeric features: numeric_cols\n",
    "numeric_cols = loan_data.select_dtypes(include=[np.number])\n",
    "\n",
    "# Impute with mean\n",
    "imp_mean = SimpleImputer(strategy='mean')\n",
    "loans_imp_mean = imp_mean.fit_transform(numeric_cols)\n",
    "\n",
    "# Convert returned array to DataFrame\n",
    "loans_imp_meanDF = pd.DataFrame(loans_imp_mean, columns=numeric_cols.columns)"
   ]
  },
  {
   "cell_type": "code",
   "execution_count": 13,
   "metadata": {},
   "outputs": [
    {
     "name": "stdout",
     "output_type": "stream",
     "text": [
      "<class 'pandas.core.frame.DataFrame'>\n",
      "RangeIndex: 88910 entries, 0 to 88909\n",
      "Data columns (total 13 columns):\n",
      " #   Column                        Non-Null Count  Dtype  \n",
      "---  ------                        --------------  -----  \n",
      " 0   Current Loan Amount           88910 non-null  float64\n",
      " 1   Credit Score                  88910 non-null  float64\n",
      " 2   Years in current job          88910 non-null  float64\n",
      " 3   Annual Income                 88910 non-null  float64\n",
      " 4   Monthly Debt                  88910 non-null  float64\n",
      " 5   Years of Credit History       88910 non-null  float64\n",
      " 6   Months since last delinquent  88910 non-null  float64\n",
      " 7   Number of Open Accounts       88910 non-null  float64\n",
      " 8   Number of Credit Problems     88910 non-null  float64\n",
      " 9   Current Credit Balance        88910 non-null  float64\n",
      " 10  Maximum Open Credit           88910 non-null  float64\n",
      " 11  Bankruptcies                  88910 non-null  float64\n",
      " 12  Tax Liens                     88910 non-null  float64\n",
      "dtypes: float64(13)\n",
      "memory usage: 8.8 MB\n",
      "None\n"
     ]
    }
   ],
   "source": [
    "# Check the DataFrame's info\n",
    "print(loans_imp_meanDF.info())"
   ]
  },
  {
   "cell_type": "code",
   "execution_count": 14,
   "metadata": {},
   "outputs": [],
   "source": [
    "# Explicitly require this experimental feature\n",
    "from sklearn.experimental import enable_iterative_imputer\n",
    "# Now you can import normally from sklearn.impute\n",
    "from sklearn.impute import IterativeImputer\n",
    "\n",
    "# Subset numeric features: numeric_cols\n",
    "numeric_cols = loan_data.select_dtypes(include=[np.number])"
   ]
  },
  {
   "cell_type": "code",
   "execution_count": 15,
   "metadata": {},
   "outputs": [],
   "source": [
    "\n",
    "# Iteratively impute\n",
    "imp_iter = IterativeImputer(max_iter=5, sample_posterior=True, random_state=123)\n",
    "loans_imp_iter = imp_iter.fit_transform(numeric_cols)"
   ]
  },
  {
   "cell_type": "code",
   "execution_count": 16,
   "metadata": {},
   "outputs": [],
   "source": [
    "# Convert returned array to DataFrame\n",
    "loans_imp_iterDF = pd.DataFrame(loans_imp_iter, columns=numeric_cols.columns)"
   ]
  },
  {
   "cell_type": "code",
   "execution_count": 17,
   "metadata": {},
   "outputs": [
    {
     "name": "stdout",
     "output_type": "stream",
     "text": [
      "<class 'pandas.core.frame.DataFrame'>\n",
      "RangeIndex: 88910 entries, 0 to 88909\n",
      "Data columns (total 13 columns):\n",
      " #   Column                        Non-Null Count  Dtype  \n",
      "---  ------                        --------------  -----  \n",
      " 0   Current Loan Amount           88910 non-null  float64\n",
      " 1   Credit Score                  88910 non-null  float64\n",
      " 2   Years in current job          88910 non-null  float64\n",
      " 3   Annual Income                 88910 non-null  float64\n",
      " 4   Monthly Debt                  88910 non-null  float64\n",
      " 5   Years of Credit History       88910 non-null  float64\n",
      " 6   Months since last delinquent  88910 non-null  float64\n",
      " 7   Number of Open Accounts       88910 non-null  float64\n",
      " 8   Number of Credit Problems     88910 non-null  float64\n",
      " 9   Current Credit Balance        88910 non-null  float64\n",
      " 10  Maximum Open Credit           88910 non-null  float64\n",
      " 11  Bankruptcies                  88910 non-null  float64\n",
      " 12  Tax Liens                     88910 non-null  float64\n",
      "dtypes: float64(13)\n",
      "memory usage: 8.8 MB\n",
      "None\n"
     ]
    }
   ],
   "source": [
    "\n",
    "# Check the DataFrame's info\n",
    "print(loans_imp_iterDF.info())"
   ]
  },
  {
   "cell_type": "code",
   "execution_count": null,
   "metadata": {},
   "outputs": [],
   "source": []
  }
 ],
 "metadata": {
  "kernelspec": {
   "display_name": "Python 3",
   "language": "python",
   "name": "python3"
  },
  "language_info": {
   "codemirror_mode": {
    "name": "ipython",
    "version": 3
   },
   "file_extension": ".py",
   "mimetype": "text/x-python",
   "name": "python",
   "nbconvert_exporter": "python",
   "pygments_lexer": "ipython3",
   "version": "3.8.3"
  }
 },
 "nbformat": 4,
 "nbformat_minor": 4
}
